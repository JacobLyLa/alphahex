{
 "cells": [
  {
   "cell_type": "code",
   "execution_count": 1,
   "metadata": {},
   "outputs": [],
   "source": [
    "import matplotlib.pyplot as plt\n",
    "import numpy as np\n",
    "import tensorflow as tf\n",
    "from tensorflow.keras.optimizers import Adam\n",
    "\n",
    "from hex import HexGame\n",
    "from mcts import MCTSPlayer, NeuralMCTSPlayer\n",
    "from neuralnet import getModel\n",
    "from player import NeuralNetPlayer, RandomPlayer\n",
    "from tournament import Tournament\n",
    "import pickle\n",
    "\n",
    "tf.config.run_functions_eagerly(True)"
   ]
  },
  {
   "attachments": {},
   "cell_type": "markdown",
   "metadata": {},
   "source": [
    "### Sequential games comparison"
   ]
  },
  {
   "cell_type": "code",
   "execution_count": 2,
   "metadata": {},
   "outputs": [
    {
     "name": "stderr",
     "output_type": "stream",
     "text": [
      "c:\\Users\\Jacob\\Anaconda3\\envs\\pytorch\\lib\\site-packages\\tensorflow\\python\\data\\ops\\structured_function.py:264: UserWarning: Even though the `tf.config.experimental_run_functions_eagerly` option is set, this option does not apply to tf.data functions. To force eager execution of tf.data functions, please use `tf.data.experimental.enable_debug_mode()`.\n",
      "  warnings.warn(\n"
     ]
    },
    {
     "name": "stdout",
     "output_type": "stream",
     "text": [
      "NN MCTS Player: 0 wins, 1 losses, 0 draws\n",
      "Length of replay buffer: 6\n"
     ]
    }
   ],
   "source": [
    "rounds = 1\n",
    "model = getModel()\n",
    "nnMctsPlayer = NeuralMCTSPlayer(model=model, maxIters=5, maxTime=5)\n",
    "randomPlayer = RandomPlayer()\n",
    "tournament = Tournament(HexGame, nnMctsPlayer, randomPlayer)\n",
    "tournament.run(rounds)\n",
    "wins, losses, draws = tournament.getResults()\n",
    "print(f\"NN MCTS Player: {wins} wins, {losses} losses, {draws} draws\")\n",
    "\n",
    "replay = nnMctsPlayer.mcts.replayBuffer\n",
    "# TODO: flip both axis and double the replay buffer\n",
    "print(f'Length of replay buffer: {len(replay)}')"
   ]
  },
  {
   "attachments": {},
   "cell_type": "markdown",
   "metadata": {},
   "source": [
    "### Load replaybuffer"
   ]
  },
  {
   "cell_type": "code",
   "execution_count": 3,
   "metadata": {},
   "outputs": [],
   "source": [
    "with open('replayBuffer.pickle', 'rb') as f:\n",
    "    replay = pickle.load(f)"
   ]
  },
  {
   "attachments": {},
   "cell_type": "markdown",
   "metadata": {},
   "source": [
    "### Create training data and train"
   ]
  },
  {
   "cell_type": "code",
   "execution_count": 4,
   "metadata": {},
   "outputs": [
    {
     "name": "stdout",
     "output_type": "stream",
     "text": [
      "(581, 16)\n",
      "(581, 16)\n"
     ]
    }
   ],
   "source": [
    "X = np.array([x[0] for x in replay]).reshape(len(replay), 16) # TODO: generalize state\n",
    "y = np.array([x[1] for x in replay]).reshape(len(replay), 16) # TODO: generalize actions\n",
    "print(X.shape)\n",
    "print(y.shape)\n",
    "\n",
    "numModels = 10\n",
    "models = []\n",
    "\n",
    "for i in range(numModels):\n",
    "    newModel = tf.keras.models.clone_model(model)\n",
    "    newModel.compile(loss='mean_squared_error', optimizer=Adam(learning_rate=0.01))\n",
    "    newModel.fit(X, y, epochs=5, verbose=0)\n",
    "    models.append(newModel)"
   ]
  },
  {
   "attachments": {},
   "cell_type": "markdown",
   "metadata": {},
   "source": [
    "### Test vs random"
   ]
  },
  {
   "cell_type": "code",
   "execution_count": 5,
   "metadata": {},
   "outputs": [
    {
     "name": "stdout",
     "output_type": "stream",
     "text": [
      "Model 0: 9 wins, 2 losses, 0 draws\n",
      "Model 1: 9 wins, 2 losses, 0 draws\n",
      "Model 2: 10 wins, 1 losses, 0 draws\n",
      "Model 3: 10 wins, 1 losses, 0 draws\n",
      "Model 4: 11 wins, 0 losses, 0 draws\n",
      "Model 5: 11 wins, 0 losses, 0 draws\n",
      "Model 6: 10 wins, 1 losses, 0 draws\n",
      "Model 7: 11 wins, 0 losses, 0 draws\n",
      "Model 8: 10 wins, 1 losses, 0 draws\n",
      "Model 9: 11 wins, 0 losses, 0 draws\n",
      "NN MCTS Player: 10 models better than random player\n"
     ]
    }
   ],
   "source": [
    "nn_better = 0\n",
    "total_wins = []\n",
    "for i in range(numModels):\n",
    "    tournament = Tournament(HexGame, NeuralNetPlayer(model=models[i]), RandomPlayer())\n",
    "    tournament.run(11)\n",
    "    wins, losses, draws = tournament.getResults()\n",
    "    total_wins.append(wins)\n",
    "    if wins > losses:\n",
    "        nn_better += 1\n",
    "    print(f\"Model {i}: {wins} wins, {losses} losses, {draws} draws\")\n",
    "print(f\"NN MCTS Player: {nn_better} models better than random player\")"
   ]
  },
  {
   "cell_type": "code",
   "execution_count": 6,
   "metadata": {},
   "outputs": [
    {
     "name": "stdout",
     "output_type": "stream",
     "text": [
      "0.9272727272727272\n"
     ]
    },
    {
     "data": {
      "image/png": "[encoded data removed]",
      "text/plain": [
       "<Figure size 640x480 with 1 Axes>"
      ]
     },
     "metadata": {},
     "output_type": "display_data"
    }
   ],
   "source": [
    "plt.hist(total_wins)\n",
    "print((sum(total_wins)/len(total_wins))/11)"
   ]
  },
  {
   "attachments": {},
   "cell_type": "markdown",
   "metadata": {},
   "source": [
    "### Visualize a model"
   ]
  },
  {
   "cell_type": "code",
   "execution_count": 7,
   "metadata": {},
   "outputs": [],
   "source": [
    "model = models[0]\n",
    "# use %magic to make plots pop up in a separate window\n",
    "%matplotlib qt\n",
    "tournament = Tournament(HexGame, NeuralNetPlayer(model=model), RandomPlayer(), plot=True)\n",
    "tournament.run(5)"
   ]
  }
 ],
 "metadata": {
  "kernelspec": {
   "display_name": "pytorch",
   "language": "python",
   "name": "python3"
  },
  "language_info": {
   "codemirror_mode": {
    "name": "ipython",
    "version": 3
   },
   "file_extension": ".py",
   "mimetype": "text/x-python",
   "name": "python",
   "nbconvert_exporter": "python",
   "pygments_lexer": "ipython3",
   "version": "3.10.9"
  },
  "orig_nbformat": 4,
  "vscode": {
   "interpreter": {
    "hash": "5e56f9ad386266bf5d5cd9b6002e19566fae980b41617c03a2c39443e844065f"
   }
  }
 },
 "nbformat": 4,
 "nbformat_minor": 2
}
