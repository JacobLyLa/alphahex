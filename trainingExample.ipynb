{
 "cells": [
  {
   "cell_type": "code",
   "execution_count": 11,
   "metadata": {},
   "outputs": [],
   "source": [
    "import matplotlib.pyplot as plt\n",
    "import numpy as np\n",
    "import tensorflow as tf\n",
    "from tensorflow.keras.optimizers import Adam\n",
    "\n",
    "from hex import HexGame\n",
    "from neuralnet import createModel, loadModel\n",
    "from player import NeuralNetPlayer, RandomPlayer, MCTSPlayer, NeuralMCTSPlayer\n",
    "from tournament import Tournament\n",
    "import pickle\n",
    "\n",
    "tf.config.run_functions_eagerly(True)\n",
    "\n",
    "boardSize = 4"
   ]
  },
  {
   "attachments": {},
   "cell_type": "markdown",
   "metadata": {},
   "source": [
    "### Sequential games comparison"
   ]
  },
  {
   "cell_type": "code",
   "execution_count": 12,
   "metadata": {},
   "outputs": [
    {
     "name": "stdout",
     "output_type": "stream",
     "text": [
      "NN MCTS Player: 1 wins, 0 losses, 0 draws\n",
      "Length of replay buffer: 7\n"
     ]
    }
   ],
   "source": [
    "rounds = 1\n",
    "model = createModel(size=boardSize)\n",
    "# model = loadModel('model.h5')\n",
    "nnMctsPlayer = NeuralMCTSPlayer(model=model, maxIters=1, maxTime=5)\n",
    "randomPlayer = RandomPlayer()\n",
    "tournament = Tournament(HexGame, nnMctsPlayer, randomPlayer, boardSize=boardSize)\n",
    "tournament.run(rounds)\n",
    "wins, losses, draws = tournament.getResults()\n",
    "print(f\"NN MCTS Player: {wins} wins, {losses} losses, {draws} draws\")\n",
    "\n",
    "replay = nnMctsPlayer.mcts.replayBuffer\n",
    "# TODO: flip both axis and double the replay buffer\n",
    "print(f'Length of replay buffer: {len(replay)}')"
   ]
  },
  {
   "attachments": {},
   "cell_type": "markdown",
   "metadata": {},
   "source": [
    "### Load replaybuffer"
   ]
  },
  {
   "cell_type": "code",
   "execution_count": 13,
   "metadata": {},
   "outputs": [],
   "source": [
    "dataName = f'replayBuffer{boardSize}.pickle'\n",
    "with open(dataName, 'rb') as f:\n",
    "    replay = pickle.load(f)"
   ]
  },
  {
   "attachments": {},
   "cell_type": "markdown",
   "metadata": {},
   "source": [
    "### Create training data and train"
   ]
  },
  {
   "cell_type": "code",
   "execution_count": 14,
   "metadata": {},
   "outputs": [
    {
     "name": "stdout",
     "output_type": "stream",
     "text": [
      "(1355, 16)\n",
      "(1355, 16)\n"
     ]
    }
   ],
   "source": [
    "X = np.array([x[0] for x in replay]).reshape(len(replay), boardSize*boardSize)\n",
    "y = np.array([x[1] for x in replay]).reshape(len(replay), boardSize*boardSize)\n",
    "print(X.shape)\n",
    "print(y.shape)\n",
    "\n",
    "numModels = 5\n",
    "models = []\n",
    "\n",
    "for i in range(numModels):\n",
    "    newModel = tf.keras.models.clone_model(model)\n",
    "    newModel.compile(loss='mean_squared_error', optimizer=Adam(learning_rate=0.01))\n",
    "    newModel.fit(X, y, epochs=10, verbose=0)\n",
    "    models.append(newModel)"
   ]
  },
  {
   "attachments": {},
   "cell_type": "markdown",
   "metadata": {},
   "source": [
    "### Test vs random"
   ]
  },
  {
   "cell_type": "code",
   "execution_count": 15,
   "metadata": {},
   "outputs": [
    {
     "name": "stdout",
     "output_type": "stream",
     "text": [
      "Model 0: 8 wins, 3 losses, 0 draws\n",
      "Model 1: 11 wins, 0 losses, 0 draws\n",
      "Model 2: 9 wins, 2 losses, 0 draws\n",
      "Model 3: 11 wins, 0 losses, 0 draws\n",
      "Model 4: 10 wins, 1 losses, 0 draws\n",
      "NN MCTS Player: 5 models better than random player\n"
     ]
    }
   ],
   "source": [
    "nn_better = 0\n",
    "total_wins = []\n",
    "for i in range(numModels):\n",
    "    tournament = Tournament(HexGame, NeuralNetPlayer(model=models[i]), RandomPlayer(), boardSize=boardSize)\n",
    "    tournament.run(11)\n",
    "    wins, losses, draws = tournament.getResults()\n",
    "    total_wins.append(wins)\n",
    "    if wins > losses:\n",
    "        nn_better += 1\n",
    "    print(f\"Model {i}: {wins} wins, {losses} losses, {draws} draws\")\n",
    "print(f\"NN MCTS Player: {nn_better} models better than random player\")"
   ]
  },
  {
   "cell_type": "code",
   "execution_count": 16,
   "metadata": {},
   "outputs": [
    {
     "name": "stdout",
     "output_type": "stream",
     "text": [
      "winrate: 89%\n"
     ]
    }
   ],
   "source": [
    "plt.hist(total_wins)\n",
    "print(f'winrate: {int(100*sum(total_wins)/len(total_wins)/11)}%')"
   ]
  },
  {
   "attachments": {},
   "cell_type": "markdown",
   "metadata": {},
   "source": [
    "### Visualize a model"
   ]
  },
  {
   "cell_type": "code",
   "execution_count": 17,
   "metadata": {},
   "outputs": [],
   "source": [
    "model = models[0]\n",
    "# use %magic to make plots pop up in a separate window\n",
    "%matplotlib qt\n",
    "tournament = Tournament(HexGame, NeuralNetPlayer(model=model), RandomPlayer(), boardSize=boardSize, plot=True)\n",
    "tournament.run(1)"
   ]
  },
  {
   "attachments": {},
   "cell_type": "markdown",
   "metadata": {},
   "source": [
    "### Save model"
   ]
  },
  {
   "cell_type": "code",
   "execution_count": null,
   "metadata": {},
   "outputs": [],
   "source": [
    "# model.save('model.h5')"
   ]
  }
 ],
 "metadata": {
  "kernelspec": {
   "display_name": "pytorch",
   "language": "python",
   "name": "python3"
  },
  "language_info": {
   "codemirror_mode": {
    "name": "ipython",
    "version": 3
   },
   "file_extension": ".py",
   "mimetype": "text/x-python",
   "name": "python",
   "nbconvert_exporter": "python",
   "pygments_lexer": "ipython3",
   "version": "3.10.9"
  },
  "orig_nbformat": 4,
  "vscode": {
   "interpreter": {
    "hash": "5e56f9ad386266bf5d5cd9b6002e19566fae980b41617c03a2c39443e844065f"
   }
  }
 },
 "nbformat": 4,
 "nbformat_minor": 2
}
